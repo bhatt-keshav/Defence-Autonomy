{
 "cells": [
  {
   "cell_type": "code",
   "execution_count": 24,
   "id": "d15bb443",
   "metadata": {},
   "outputs": [],
   "source": [
    "%matplotlib inline\n",
    "import pysd\n",
    "import matplotlib as plt\n",
    "import pandas as pd\n",
    "import numpy as np"
   ]
  },
  {
   "cell_type": "code",
   "execution_count": 8,
   "id": "489c421a",
   "metadata": {},
   "outputs": [],
   "source": [
    "model = pysd.read_vensim('C:/repos/Defence-Autonomy/model_wip.mdl')"
   ]
  },
  {
   "cell_type": "code",
   "execution_count": null,
   "id": "ef684b52",
   "metadata": {},
   "outputs": [
    {
     "data": {
      "text/plain": [
       "0    1\n",
       "1    2\n",
       "2    3\n",
       "dtype: int64"
      ]
     },
     "execution_count": 19,
     "metadata": {},
     "output_type": "execute_result"
    }
   ],
   "source": [
    "# stress_to_willingness_ts = pd.Series(index=range(3), data=range(1,4))\n",
    "# stress_to_willingness_ts"
   ]
  },
  {
   "cell_type": "code",
   "execution_count": 27,
   "id": "bae3a65c",
   "metadata": {},
   "outputs": [
    {
     "data": {
      "text/plain": [
       "array([1. , 1.5, 2. , 2.5, 3. ])"
      ]
     },
     "execution_count": 27,
     "metadata": {},
     "output_type": "execute_result"
    }
   ],
   "source": [
    "stress_to_willingness_values = np.arange(1,3.1,0.5)\n",
    "stress_to_willingness_values"
   ]
  },
  {
   "cell_type": "code",
   "execution_count": 23,
   "id": "21e1df56",
   "metadata": {},
   "outputs": [
    {
     "data": {
      "text/html": [
       "<div>\n",
       "<style scoped>\n",
       "    .dataframe tbody tr th:only-of-type {\n",
       "        vertical-align: middle;\n",
       "    }\n",
       "\n",
       "    .dataframe tbody tr th {\n",
       "        vertical-align: top;\n",
       "    }\n",
       "\n",
       "    .dataframe thead th {\n",
       "        text-align: right;\n",
       "    }\n",
       "</style>\n",
       "<table border=\"1\" class=\"dataframe\">\n",
       "  <thead>\n",
       "    <tr style=\"text-align: right;\">\n",
       "      <th></th>\n",
       "      <th>Constrained Defence Spending</th>\n",
       "      <th>Cumulative Defence Spending</th>\n",
       "      <th>rate of orders fulfilled</th>\n",
       "      <th>Cumulative Earnings</th>\n",
       "    </tr>\n",
       "    <tr>\n",
       "      <th>time</th>\n",
       "      <th></th>\n",
       "      <th></th>\n",
       "      <th></th>\n",
       "      <th></th>\n",
       "    </tr>\n",
       "  </thead>\n",
       "  <tbody>\n",
       "    <tr>\n",
       "      <th>1.00</th>\n",
       "      <td>21.515000</td>\n",
       "      <td>0.0000</td>\n",
       "      <td>2.520000</td>\n",
       "      <td>2.000000</td>\n",
       "    </tr>\n",
       "    <tr>\n",
       "      <th>1.25</th>\n",
       "      <td>21.399276</td>\n",
       "      <td>10.7575</td>\n",
       "      <td>2.520000</td>\n",
       "      <td>2.074970</td>\n",
       "    </tr>\n",
       "    <tr>\n",
       "      <th>1.50</th>\n",
       "      <td>21.283552</td>\n",
       "      <td>21.5150</td>\n",
       "      <td>2.521768</td>\n",
       "      <td>2.147001</td>\n",
       "    </tr>\n",
       "    <tr>\n",
       "      <th>1.75</th>\n",
       "      <td>21.167829</td>\n",
       "      <td>32.2725</td>\n",
       "      <td>2.524819</td>\n",
       "      <td>2.216141</td>\n",
       "    </tr>\n",
       "    <tr>\n",
       "      <th>2.00</th>\n",
       "      <td>21.052105</td>\n",
       "      <td>43.0300</td>\n",
       "      <td>2.528784</td>\n",
       "      <td>2.282420</td>\n",
       "    </tr>\n",
       "  </tbody>\n",
       "</table>\n",
       "</div>"
      ],
      "text/plain": [
       "      Constrained Defence Spending  Cumulative Defence Spending  \\\n",
       "time                                                              \n",
       "1.00                     21.515000                       0.0000   \n",
       "1.25                     21.399276                      10.7575   \n",
       "1.50                     21.283552                      21.5150   \n",
       "1.75                     21.167829                      32.2725   \n",
       "2.00                     21.052105                      43.0300   \n",
       "\n",
       "      rate of orders fulfilled  Cumulative Earnings  \n",
       "time                                                 \n",
       "1.00                  2.520000             2.000000  \n",
       "1.25                  2.520000             2.074970  \n",
       "1.50                  2.521768             2.147001  \n",
       "1.75                  2.524819             2.216141  \n",
       "2.00                  2.528784             2.282420  "
      ]
     },
     "execution_count": 23,
     "metadata": {},
     "output_type": "execute_result"
    }
   ],
   "source": [
    "res = model.run(params={'stress to willingness': 2}, \n",
    "                return_columns=['Constrained Defence Spending', 'Cumulative Defence Spending', 'rate of orders fulfilled', 'Cumulative Earnings'])\n",
    "\n",
    "res.head(5)"
   ]
  },
  {
   "cell_type": "code",
   "execution_count": null,
   "id": "45557069",
   "metadata": {},
   "outputs": [
    {
     "data": {
      "text/html": [
       "<div>\n",
       "<style scoped>\n",
       "    .dataframe tbody tr th:only-of-type {\n",
       "        vertical-align: middle;\n",
       "    }\n",
       "\n",
       "    .dataframe tbody tr th {\n",
       "        vertical-align: top;\n",
       "    }\n",
       "\n",
       "    .dataframe thead th {\n",
       "        text-align: right;\n",
       "    }\n",
       "</style>\n",
       "<table border=\"1\" class=\"dataframe\">\n",
       "  <thead>\n",
       "    <tr style=\"text-align: right;\">\n",
       "      <th></th>\n",
       "      <th>Constrained Defence Spending</th>\n",
       "      <th>Cumulative Defence Spending</th>\n",
       "      <th>rate of orders fulfilled</th>\n",
       "      <th>Cumulative Earnings</th>\n",
       "    </tr>\n",
       "    <tr>\n",
       "      <th>time</th>\n",
       "      <th></th>\n",
       "      <th></th>\n",
       "      <th></th>\n",
       "      <th></th>\n",
       "    </tr>\n",
       "  </thead>\n",
       "  <tbody>\n",
       "    <tr>\n",
       "      <th>1.00</th>\n",
       "      <td>21.515000</td>\n",
       "      <td>0.0000</td>\n",
       "      <td>2.520000</td>\n",
       "      <td>2.000000</td>\n",
       "    </tr>\n",
       "    <tr>\n",
       "      <th>1.25</th>\n",
       "      <td>21.399276</td>\n",
       "      <td>10.7575</td>\n",
       "      <td>2.520000</td>\n",
       "      <td>2.074970</td>\n",
       "    </tr>\n",
       "    <tr>\n",
       "      <th>1.50</th>\n",
       "      <td>21.283552</td>\n",
       "      <td>21.5150</td>\n",
       "      <td>2.521768</td>\n",
       "      <td>2.147001</td>\n",
       "    </tr>\n",
       "    <tr>\n",
       "      <th>1.75</th>\n",
       "      <td>21.167829</td>\n",
       "      <td>32.2725</td>\n",
       "      <td>2.524819</td>\n",
       "      <td>2.216141</td>\n",
       "    </tr>\n",
       "    <tr>\n",
       "      <th>2.00</th>\n",
       "      <td>21.052105</td>\n",
       "      <td>43.0300</td>\n",
       "      <td>2.528784</td>\n",
       "      <td>2.282420</td>\n",
       "    </tr>\n",
       "  </tbody>\n",
       "</table>\n",
       "</div>"
      ],
      "text/plain": [
       "      Constrained Defence Spending  Cumulative Defence Spending  \\\n",
       "time                                                              \n",
       "1.00                     21.515000                       0.0000   \n",
       "1.25                     21.399276                      10.7575   \n",
       "1.50                     21.283552                      21.5150   \n",
       "1.75                     21.167829                      32.2725   \n",
       "2.00                     21.052105                      43.0300   \n",
       "\n",
       "      rate of orders fulfilled  Cumulative Earnings  \n",
       "time                                                 \n",
       "1.00                  2.520000             2.000000  \n",
       "1.25                  2.520000             2.074970  \n",
       "1.50                  2.521768             2.147001  \n",
       "1.75                  2.524819             2.216141  \n",
       "2.00                  2.528784             2.282420  "
      ]
     },
     "execution_count": 21,
     "metadata": {},
     "output_type": "execute_result"
    }
   ],
   "source": [
    "values = model.run(return_columns=['Constrained Defence Spending', 'Cumulative Defence Spending', 'rate of orders fulfilled', 'Cumulative Earnings'])\n",
    "values.head(5)"
   ]
  }
 ],
 "metadata": {
  "kernelspec": {
   "display_name": "defence-py",
   "language": "python",
   "name": "python3"
  },
  "language_info": {
   "codemirror_mode": {
    "name": "ipython",
    "version": 3
   },
   "file_extension": ".py",
   "mimetype": "text/x-python",
   "name": "python",
   "nbconvert_exporter": "python",
   "pygments_lexer": "ipython3",
   "version": "3.13.3"
  }
 },
 "nbformat": 4,
 "nbformat_minor": 5
}
